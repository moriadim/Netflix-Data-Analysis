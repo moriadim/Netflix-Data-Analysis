{
 "cells": [
  {
   "cell_type": "markdown",
   "id": "daa4039a",
   "metadata": {},
   "source": [
    "# 🎬 Netflix Data Analysis\n",
    "\n",
    "Welcome to my analysis of the Netflix Movies and TV Shows dataset. This project is part of my portfolio for the Train IT Datathon 2025.\n",
    "\n",
    "Author: **moriadim**"
   ]
  },
  {
   "cell_type": "code",
   "execution_count": null,
   "id": "7f7ba1ea",
   "metadata": {},
   "outputs": [],
   "source": [
    "# 📦 Importing Libraries\n",
    "import pandas as pd\n",
    "import matplotlib.pyplot as plt\n",
    "import seaborn as sns\n",
    "import numpy as np\n",
    "\n",
    "# Set visual style\n",
    "sns.set(style='whitegrid')"
   ]
  },
  {
   "cell_type": "code",
   "execution_count": null,
   "id": "a37f0443",
   "metadata": {},
   "outputs": [],
   "source": [
    "# 📁 Load Dataset\n",
    "# The dataset can be downloaded from Kaggle or other open data sources\n",
    "df = pd.read_csv('netflix_titles.csv')\n",
    "df.head()"
   ]
  },
  {
   "cell_type": "code",
   "execution_count": null,
   "id": "2ace5269",
   "metadata": {},
   "outputs": [],
   "source": [
    "# 🔍 Data Overview\n",
    "df.info()\n",
    "df.describe(include='all')"
   ]
  },
  {
   "cell_type": "code",
   "execution_count": null,
   "id": "cf07e7c4",
   "metadata": {},
   "outputs": [],
   "source": [
    "# 🧹 Data Cleaning\n",
    "# Check for nulls\n",
    "df.isnull().sum()\n",
    "\n",
    "# Drop rows with nulls in 'type', 'title', or 'country'\n",
    "df.dropna(subset=['type', 'title', 'country'], inplace=True)\n",
    "df.fillna('Unknown', inplace=True)"
   ]
  },
  {
   "cell_type": "code",
   "execution_count": null,
   "id": "557b3322",
   "metadata": {},
   "outputs": [],
   "source": [
    "# 📊 Content Type Distribution\n",
    "sns.countplot(x='type', data=df, palette='Blues')\n",
    "plt.title('Distribution of Content Type on Netflix')\n",
    "plt.xlabel('Type')\n",
    "plt.ylabel('Count')\n",
    "plt.show()"
   ]
  },
  {
   "cell_type": "code",
   "execution_count": null,
   "id": "595e7a40",
   "metadata": {},
   "outputs": [],
   "source": [
    "# 🌍 Top 10 Countries with Most Content\n",
    "top_countries = df['country'].value_counts().head(10)\n",
    "sns.barplot(x=top_countries.values, y=top_countries.index, palette='coolwarm')\n",
    "plt.title('Top 10 Countries with Most Netflix Content')\n",
    "plt.xlabel('Count')\n",
    "plt.ylabel('Country')\n",
    "plt.show()"
   ]
  },
  {
   "cell_type": "code",
   "execution_count": null,
   "id": "9da92d38",
   "metadata": {},
   "outputs": [],
   "source": [
    "# 🗓 Content Added Over Time\n",
    "df['date_added'] = pd.to_datetime(df['date_added'], errors='coerce')\n",
    "df['year_added'] = df['date_added'].dt.year\n",
    "df['year_added'].value_counts().sort_index().plot(kind='bar', figsize=(10,5))\n",
    "plt.title('Content Added per Year')\n",
    "plt.xlabel('Year')\n",
    "plt.ylabel('Number of Titles')\n",
    "plt.show()"
   ]
  },
  {
   "cell_type": "markdown",
   "id": "1a5fa449",
   "metadata": {},
   "source": [
    "## 📌 Conclusion\n",
    "- The majority of content on Netflix consists of Movies.\n",
    "- The USA dominates the content library.\n",
    "- There has been a rise in content added especially after 2016.\n",
    "\n",
    "This notebook was created by **moriadim** as part of his portfolio for the Train IT 2025 Datathon."
   ]
  }
 ],
 "metadata": {},
 "nbformat": 4,
 "nbformat_minor": 5
}
